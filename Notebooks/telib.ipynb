{
 "cells": [
  {
   "cell_type": "code",
   "execution_count": 2,
   "metadata": {},
   "outputs": [],
   "source": [
    "from math import inf\n",
    "import numpy as np\n",
    "import pandas as pd\n",
    "from sklearn.model_selection import GridSearchCV\n",
    "from sklearn.neighbors import KernelDensity\n",
    "from sklearn.metrics import confusion_matrix\n",
    "from sklearn.metrics import accuracy_score\n",
    "\n",
    "\n",
    "def build_AM(x,y):\n",
    "    \"\"\"Function to build the A matrix.\n",
    "\n",
    "    Keyword arguments:\n",
    "    x -- the input data numpy array in the form nxm (samplesxfeatures).\n",
    "    y -- the numpy array that represents the classes for each sample.\n",
    "    \"\"\"\n",
    "    classes = np.unique(y)\n",
    "    Am = np.zeros((x.shape[1],len(classes)))\n",
    "    # print(Am)\n",
    "    for feat in range(x.shape[1]):\n",
    "        for lab in np.unique(y):\n",
    "            # print(x[np.where(y == lab)[0],feat])\n",
    "            x_fit = x[np.where(y == lab)[0],feat].reshape(-1, 1)\n",
    "            params = {'bandwidth': np.linspace(0.01, 3, 30)}\n",
    "            grid = GridSearchCV(KernelDensity(), params, cv=5)\n",
    "            grid.fit(x_fit)\n",
    "            kde = grid.best_estimator_\n",
    "            #h = np.std(x_fit)*(4/3/len(x_fit))**(1/5)\n",
    "            #print(h)\n",
    "            #kde = KernelDensity(bandwidth=max(h,0.5)).fit(x_fit)\n",
    "            Am[feat,lab-1] = x_fit[np.argmax(np.exp(kde.score_samples(x_fit)))]\n",
    "    return Am"
   ]
  },
  {
   "cell_type": "code",
   "execution_count": 19,
   "metadata": {},
   "outputs": [
    {
     "name": "stdout",
     "output_type": "stream",
     "text": [
      "       0    1    2    3  4\n",
      "0    5.1  3.5  1.4  0.2  1\n",
      "1    4.9  3.0  1.4  0.2  1\n",
      "2    4.7  3.2  1.3  0.2  1\n",
      "3    4.6  3.1  1.5  0.2  1\n",
      "4    5.0  3.6  1.4  0.2  1\n",
      "..   ...  ...  ...  ... ..\n",
      "145  6.7  3.0  5.2  2.3  3\n",
      "146  6.3  2.5  5.0  1.9  3\n",
      "147  6.5  3.0  5.2  2.0  3\n",
      "148  6.2  3.4  5.4  2.3  3\n",
      "149  5.9  3.0  5.1  1.8  3\n",
      "\n",
      "[150 rows x 5 columns]\n",
      "[[5.  5.7 6.4]\n",
      " [3.4 2.9 3. ]\n",
      " [1.5 4.4 5.4]\n",
      " [0.2 1.4 1.9]]\n"
     ]
    }
   ],
   "source": [
    "import numpy as np\n",
    "import pandas as pd\n",
    "\n",
    "# Load the Iris dataset from a CSV file\n",
    "df = pd.read_csv('../data/iris', header=None)\n",
    "\n",
    "# Convert class names to numeric values\n",
    "class_dict = {'Iris-setosa': 1, 'Iris-versicolor': 2, 'Iris-virginica': 3}\n",
    "df[4] = df[4].map(class_dict)\n",
    "print(df)\n",
    "\n",
    "# Extract the feature values and class labels\n",
    "X = df.iloc[:, :-1].values\n",
    "y = df.iloc[:, -1].values\n",
    "\n",
    "# Build the A matrix\n",
    "A = build_AM(X, y)\n",
    "\n",
    "print(A)\n"
   ]
  },
  {
   "cell_type": "code",
   "execution_count": 6,
   "metadata": {},
   "outputs": [
    {
     "name": "stdout",
     "output_type": "stream",
     "text": [
      "[[1.377e+01 1.221e+01 1.311e+01]\n",
      " [1.730e+00 1.470e+00 3.240e+00]\n",
      " [2.420e+00 2.240e+00 2.350e+00]\n",
      " [1.680e+01 2.000e+01 2.050e+01]\n",
      " [1.010e+02 8.600e+01 9.000e+01]\n",
      " [2.880e+00 2.110e+00 1.590e+00]\n",
      " [2.910e+00 1.940e+00 6.300e-01]\n",
      " [2.800e-01 3.500e-01 4.800e-01]\n",
      " [1.970e+00 1.560e+00 1.060e+00]\n",
      " [5.250e+00 2.800e+00 5.880e+00]\n",
      " [1.070e+00 1.000e+00 6.500e-01]\n",
      " [2.870e+00 2.960e+00 1.640e+00]\n",
      " [1.285e+03 6.800e+02 5.200e+02]]\n"
     ]
    }
   ],
   "source": [
    "df = pd.read_csv(\"../data/wine/wine\", header=None, sep=',')\n",
    "X = df.iloc[:, 1:].values\n",
    "y = df.iloc[:, 0].values\n",
    "A = build_AM(X, y)\n",
    "print(A)"
   ]
  },
  {
   "cell_type": "code",
   "execution_count": 18,
   "metadata": {},
   "outputs": [
    {
     "name": "stdout",
     "output_type": "stream",
     "text": [
      "[[7.4000e+00 6.7000e+00]\n",
      " [5.1000e-01 2.5000e-01]\n",
      " [0.0000e+00 3.1000e-01]\n",
      " [2.0500e+00 1.7000e+00]\n",
      " [7.8000e-02 4.2000e-02]\n",
      " [6.0000e+00 3.1000e+01]\n",
      " [1.8000e+01 1.1500e+02]\n",
      " [9.9674e-01 9.9398e-01]\n",
      " [3.3100e+00 3.1500e+00]\n",
      " [6.1000e-01 4.5000e-01]\n",
      " [9.5000e+00 9.4000e+00]\n",
      " [5.0000e+00 6.0000e+00]]\n"
     ]
    }
   ],
   "source": [
    "df = pd.read_csv(\"../data/winequality/winequality-red\", header=None, sep=';', skiprows=1)\n",
    "# df = df.assign(new_col=1)\n",
    "df1 = pd.read_csv(\"../data/winequality/winequality-white\", header=None, sep=';', skiprows=1)\n",
    "df.insert(len(df.columns), \"label\", 'red')\n",
    "df1.insert(len(df1.columns), \"label\",'white')\n",
    "class_dict = {'red': 1, 'white': 2}\n",
    "df = pd.concat([df, df1], ignore_index=True)\n",
    "# print(df.isna())\n",
    "df.iloc[:, -1] = df.iloc[:, -1].map(class_dict)\n",
    "# print(df.shape)\n",
    "df = df.dropna()\n",
    "# print(df.shape)\n",
    "X = df.iloc[:, :-1].values\n",
    "\n",
    "y = df.iloc[:, -1].values\n",
    "A = build_AM(X, y)\n",
    "print(A)"
   ]
  },
  {
   "cell_type": "code",
   "execution_count": null,
   "metadata": {},
   "outputs": [],
   "source": []
  }
 ],
 "metadata": {
  "kernelspec": {
   "display_name": "Python 3",
   "language": "python",
   "name": "python3"
  },
  "language_info": {
   "codemirror_mode": {
    "name": "ipython",
    "version": 3
   },
   "file_extension": ".py",
   "mimetype": "text/x-python",
   "name": "python",
   "nbconvert_exporter": "python",
   "pygments_lexer": "ipython3",
   "version": "3.10.6"
  },
  "orig_nbformat": 4
 },
 "nbformat": 4,
 "nbformat_minor": 2
}
